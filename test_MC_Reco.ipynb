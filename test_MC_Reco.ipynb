{
 "cells": [
  {
   "cell_type": "code",
   "execution_count": 1,
   "metadata": {},
   "outputs": [],
   "source": [
    "import numpy as np\n",
    "import matplotlib.pyplot as plt\n",
    "import tables\n",
    "\n",
    "import pandas as pd\n",
    "from mpl_toolkits.mplot3d import Axes3D\n",
    "\n",
    "import matplotlib.cm as cm\n",
    "from matplotlib.colors import Normalize"
   ]
  },
  {
   "cell_type": "code",
   "execution_count": 2,
   "metadata": {},
   "outputs": [],
   "source": [
    "MC_file = tables.open_file(\"bb0nu_MC.h5\",mode='r')\n",
    "root = MC_file.root.MC\n",
    "data = root\n",
    "Nevents = len(data.events)"
   ]
  },
  {
   "cell_type": "code",
   "execution_count": 3,
   "metadata": {},
   "outputs": [],
   "source": [
    "# Pull the extents so teh MC events can be sorted\n",
    "DatL=[]\n",
    "DatL.append(0)\n",
    "for x in range(0,Nevents):\n",
    "    DatL.append(data.extents[x][\"last_hit\"])"
   ]
  },
  {
   "cell_type": "code",
   "execution_count": null,
   "metadata": {
    "scrolled": true
   },
   "outputs": [],
   "source": []
  },
  {
   "cell_type": "code",
   "execution_count": 4,
   "metadata": {},
   "outputs": [],
   "source": [
    "reco_group_name = '/FANALIC/RECO_fwhm_07_voxel_10x10x10'\n",
    "file_events = pd.read_hdf(\"bb0nu_RECO.h5\", reco_group_name + '/events')\n",
    "file_voxels = pd.read_hdf(\"bb0nu_RECO.h5\", reco_group_name + '/voxels')\n",
    "events_reco_df = pd.DataFrame()\n",
    "voxels_reco_df = pd.DataFrame()\n",
    "events_reco_df = pd.concat([events_reco_df, file_events], axis=0)\n",
    "voxels_reco_df = pd.concat([voxels_reco_df, file_voxels], axis=0)"
   ]
  },
  {
   "cell_type": "code",
   "execution_count": 5,
   "metadata": {},
   "outputs": [
    {
     "data": {
      "text/plain": [
       "2107"
      ]
     },
     "execution_count": 5,
     "metadata": {},
     "output_type": "execute_result"
    }
   ],
   "source": [
    "Nevents"
   ]
  },
  {
   "cell_type": "code",
   "execution_count": null,
   "metadata": {},
   "outputs": [],
   "source": []
  },
  {
   "cell_type": "code",
   "execution_count": 6,
   "metadata": {},
   "outputs": [
    {
     "ename": "NameError",
     "evalue": "name 'tb' is not defined",
     "output_type": "error",
     "traceback": [
      "\u001b[0;31m---------------------------------------------------------------------------\u001b[0m",
      "\u001b[0;31mNameError\u001b[0m                                 Traceback (most recent call last)",
      "\u001b[0;32m<ipython-input-6-0ab99ac4783c>\u001b[0m in \u001b[0;36m<module>\u001b[0;34m\u001b[0m\n\u001b[0;32m----> 1\u001b[0;31m \u001b[0;32mwith\u001b[0m \u001b[0mtb\u001b[0m\u001b[0;34m.\u001b[0m\u001b[0mopen_file\u001b[0m\u001b[0;34m(\u001b[0m\u001b[0mMC_Curr\u001b[0m\u001b[0;34m)\u001b[0m \u001b[0;32mas\u001b[0m \u001b[0mMC\u001b[0m\u001b[0;34m:\u001b[0m\u001b[0;34m\u001b[0m\u001b[0;34m\u001b[0m\u001b[0m\n\u001b[0m\u001b[1;32m      2\u001b[0m        \u001b[0mct\u001b[0m\u001b[0;34m+=\u001b[0m\u001b[0;36m1\u001b[0m\u001b[0;34m\u001b[0m\u001b[0;34m\u001b[0m\u001b[0m\n\u001b[1;32m      3\u001b[0m        \u001b[0mdata\u001b[0m \u001b[0;34m=\u001b[0m \u001b[0mMC\u001b[0m\u001b[0;34m.\u001b[0m\u001b[0mroot\u001b[0m\u001b[0;34m.\u001b[0m\u001b[0mMC\u001b[0m\u001b[0;34m\u001b[0m\u001b[0;34m\u001b[0m\u001b[0m\n\u001b[1;32m      4\u001b[0m        \u001b[0mNevents\u001b[0m \u001b[0;34m=\u001b[0m \u001b[0mint\u001b[0m\u001b[0;34m(\u001b[0m\u001b[0mdata\u001b[0m\u001b[0;34m.\u001b[0m\u001b[0mconfiguration\u001b[0m\u001b[0;34m.\u001b[0m\u001b[0mread\u001b[0m\u001b[0;34m(\u001b[0m\u001b[0;34m)\u001b[0m\u001b[0;34m[\u001b[0m\u001b[0;36m2\u001b[0m\u001b[0;34m]\u001b[0m\u001b[0;34m[\u001b[0m\u001b[0;34m-\u001b[0m\u001b[0;36m1\u001b[0m\u001b[0;34m]\u001b[0m\u001b[0;34m)\u001b[0m\u001b[0;34m\u001b[0m\u001b[0;34m\u001b[0m\u001b[0m\n\u001b[1;32m      5\u001b[0m        \u001b[0mDatL\u001b[0m \u001b[0;34m=\u001b[0m \u001b[0mnp\u001b[0m\u001b[0;34m.\u001b[0m\u001b[0mwhere\u001b[0m\u001b[0;34m(\u001b[0m\u001b[0mdata\u001b[0m\u001b[0;34m.\u001b[0m\u001b[0mhits\u001b[0m\u001b[0;34m.\u001b[0m\u001b[0mread\u001b[0m\u001b[0;34m(\u001b[0m\u001b[0;34m)\u001b[0m\u001b[0;34m[\u001b[0m\u001b[0;34m\"hit_id\"\u001b[0m\u001b[0;34m]\u001b[0m \u001b[0;34m==\u001b[0m\u001b[0;36m0\u001b[0m\u001b[0;34m)\u001b[0m\u001b[0;34m[\u001b[0m\u001b[0;36m0\u001b[0m\u001b[0;34m]\u001b[0m\u001b[0;34m\u001b[0m\u001b[0;34m\u001b[0m\u001b[0m\n",
      "\u001b[0;31mNameError\u001b[0m: name 'tb' is not defined"
     ]
    }
   ],
   "source": [
    " with tb.open_file(MC_Curr) as MC:\n",
    "        ct+=1\n",
    "        data = MC.root.MC\n",
    "        Nevents = int(data.configuration.read()[2][-1])\n",
    "        DatL = np.where(data.hits.read()[\"hit_id\"] ==0)[0]\n",
    "\n",
    "        DATA = data.particles.read()\n",
    "\n",
    "        IDs = np.unique(DATA['event_id'])\n",
    "        Origin_Z = []\n",
    "        Origin_R = []\n",
    "\n",
    "\n",
    "        for EVENT in IDs:\n",
    "            loc = np.where(DATA['event_id'] == EVENT)[0][0]\n",
    "\n",
    "            MC_X = DATA[\"initial_x\"][loc]\n",
    "            MC_Y = DATA[\"initial_y\"][loc]\n",
    "            MC_Z = DATA[\"initial_z\"][loc]"
   ]
  },
  {
   "cell_type": "code",
   "execution_count": 7,
   "metadata": {},
   "outputs": [
    {
     "data": {
      "text/plain": [
       "/MC (Group) ''\n",
       "  children := ['configuration' (Table), 'events' (Table), 'extents' (Table), 'hits' (Table), 'particles' (Table), 'sensor_positions' (Table), 'waveforms' (Table)]"
      ]
     },
     "execution_count": 7,
     "metadata": {},
     "output_type": "execute_result"
    }
   ],
   "source": [
    "data"
   ]
  },
  {
   "cell_type": "code",
   "execution_count": 8,
   "metadata": {},
   "outputs": [
    {
     "data": {
      "text/plain": [
       "/MC/particles (Table(69626,)) ''\n",
       "  description := {\n",
       "  \"particle_indx\": Int32Col(shape=(), dflt=0, pos=0),\n",
       "  \"particle_name\": StringCol(itemsize=20, shape=(), dflt=b'', pos=1),\n",
       "  \"primary\": Int8Col(shape=(), dflt=0, pos=2),\n",
       "  \"mother_indx\": Int32Col(shape=(), dflt=0, pos=3),\n",
       "  \"initial_vertex\": Float32Col(shape=(4,), dflt=0.0, pos=4),\n",
       "  \"final_vertex\": Float32Col(shape=(4,), dflt=0.0, pos=5),\n",
       "  \"initial_volume\": StringCol(itemsize=20, shape=(), dflt=b'', pos=6),\n",
       "  \"final_volume\": StringCol(itemsize=20, shape=(), dflt=b'', pos=7),\n",
       "  \"momentum\": Float32Col(shape=(3,), dflt=0.0, pos=8),\n",
       "  \"kin_energy\": Float32Col(shape=(), dflt=0.0, pos=9),\n",
       "  \"creator_proc\": StringCol(itemsize=20, shape=(), dflt=b'', pos=10)}\n",
       "  byteorder := 'little'\n",
       "  chunkshape := (32768,)"
      ]
     },
     "execution_count": 8,
     "metadata": {},
     "output_type": "execute_result"
    }
   ],
   "source": [
    "data.particles"
   ]
  },
  {
   "cell_type": "code",
   "execution_count": 102,
   "metadata": {},
   "outputs": [
    {
     "data": {
      "text/plain": [
       "array([(2500, 2.4578302), (2501, 2.4578302), (2502, 2.4578302), ...,\n",
       "       (4604, 2.4578302), (4605, 2.4578302), (4606, 2.4578302)],\n",
       "      dtype=[('evt_number', '<i4'), ('evt_energy', '<f4')])"
      ]
     },
     "execution_count": 102,
     "metadata": {},
     "output_type": "execute_result"
    }
   ],
   "source": [
    "data.events.read()"
   ]
  },
  {
   "cell_type": "code",
   "execution_count": 100,
   "metadata": {},
   "outputs": [
    {
     "data": {
      "text/plain": [
       "(2, b'e-', 1, 0, [-174.85088, 1285.5037 , -713.9089 ,    0.     ], [-1.6403845e+02,  1.2666760e+03, -6.7013519e+02,  2.9330483e-01], b'ACTIVE', b'ACTIVE', [ 0.55163276, -1.4402025 ,  0.3019409 ], 1.1415054, b'none')"
      ]
     },
     "execution_count": 100,
     "metadata": {},
     "output_type": "execute_result"
    }
   ],
   "source": [
    "data.particles.read()[0]"
   ]
  },
  {
   "cell_type": "code",
   "execution_count": 119,
   "metadata": {},
   "outputs": [],
   "source": [
    "loc = np.where(data.particles.read()['primary']==1)[0]"
   ]
  },
  {
   "cell_type": "code",
   "execution_count": 120,
   "metadata": {},
   "outputs": [
    {
     "data": {
      "text/plain": [
       "array([1, 1, 1, ..., 1, 1, 1], dtype=int8)"
      ]
     },
     "execution_count": 120,
     "metadata": {},
     "output_type": "execute_result"
    }
   ],
   "source": [
    "data.particles.read()['primary'][loc]"
   ]
  },
  {
   "cell_type": "code",
   "execution_count": 123,
   "metadata": {},
   "outputs": [],
   "source": [
    "all_vertex = data.particles.read()['initial_vertex'][loc][0::2]"
   ]
  },
  {
   "cell_type": "code",
   "execution_count": 124,
   "metadata": {},
   "outputs": [
    {
     "data": {
      "text/plain": [
       "2107"
      ]
     },
     "execution_count": 124,
     "metadata": {},
     "output_type": "execute_result"
    }
   ],
   "source": [
    "len(all_vertex)"
   ]
  },
  {
   "cell_type": "code",
   "execution_count": null,
   "metadata": {},
   "outputs": [],
   "source": []
  },
  {
   "cell_type": "code",
   "execution_count": 75,
   "metadata": {},
   "outputs": [
    {
     "data": {
      "text/plain": [
       "([-174.5933, 1284.6251, -713.5145], 0.00349639, 0.00498686, b'ACTIVE', 2, 0)"
      ]
     },
     "execution_count": 75,
     "metadata": {},
     "output_type": "execute_result"
    }
   ],
   "source": [
    "data.hits[0]"
   ]
  },
  {
   "cell_type": "code",
   "execution_count": 7,
   "metadata": {},
   "outputs": [
    {
     "data": {
      "text/plain": [
       "2108"
      ]
     },
     "execution_count": 7,
     "metadata": {},
     "output_type": "execute_result"
    }
   ],
   "source": [
    "len(DatL)"
   ]
  },
  {
   "cell_type": "code",
   "execution_count": 8,
   "metadata": {},
   "outputs": [
    {
     "data": {
      "text/plain": [
       "2107"
      ]
     },
     "execution_count": 8,
     "metadata": {},
     "output_type": "execute_result"
    }
   ],
   "source": [
    "len(events_reco_df)"
   ]
  },
  {
   "cell_type": "code",
   "execution_count": 21,
   "metadata": {},
   "outputs": [
    {
     "data": {
      "text/plain": [
       "298"
      ]
     },
     "execution_count": 21,
     "metadata": {},
     "output_type": "execute_result"
    }
   ],
   "source": [
    "len(data.hits[DatL[0]:DatL[0+1]])"
   ]
  },
  {
   "cell_type": "code",
   "execution_count": 34,
   "metadata": {},
   "outputs": [],
   "source": [
    "loc = np.argmin(data.hits[DatL[0]:DatL[0+1]][\"hit_time\"])"
   ]
  },
  {
   "cell_type": "code",
   "execution_count": 49,
   "metadata": {},
   "outputs": [
    {
     "data": {
      "text/plain": [
       "2107"
      ]
     },
     "execution_count": 49,
     "metadata": {},
     "output_type": "execute_result"
    }
   ],
   "source": [
    "len(events_reco_df)"
   ]
  },
  {
   "cell_type": "code",
   "execution_count": 50,
   "metadata": {},
   "outputs": [
    {
     "data": {
      "text/plain": [
       "2107"
      ]
     },
     "execution_count": 50,
     "metadata": {},
     "output_type": "execute_result"
    }
   ],
   "source": [
    "Nevents"
   ]
  },
  {
   "cell_type": "code",
   "execution_count": 47,
   "metadata": {},
   "outputs": [],
   "source": [
    "ANA_file = tables.open_file('bb0nu_RECO.h5')\n",
    "#ANA_events = ANA_file.root.FANALIC.ANA_fwhm_07_voxel_10x10x10.events.table.read()\n",
    "ANA_events = ANA_file.root.FANALIC.RECO_fwhm_07_voxel_10x10x10.events.table.read()"
   ]
  },
  {
   "cell_type": "code",
   "execution_count": 48,
   "metadata": {},
   "outputs": [
    {
     "data": {
      "text/plain": [
       "2107"
      ]
     },
     "execution_count": 48,
     "metadata": {},
     "output_type": "execute_result"
    }
   ],
   "source": [
    "len(ANA_events)"
   ]
  },
  {
   "cell_type": "code",
   "execution_count": 44,
   "metadata": {},
   "outputs": [],
   "source": [
    "Origin_Z = []\n",
    "Origin_R = []\n",
    "\n",
    "for EVENT in range(0,len(events_reco_df)):\n",
    "    \n",
    "    current_event = data.hits[DatL[EVENT]:DatL[EVENT+1]]\n",
    "    loc = np.argmin(current_event[\"hit_time\"])\n",
    "\n",
    "    MC_X = current_event[\"hit_position\"][loc][0]\n",
    "    MC_Y = current_event[\"hit_position\"][loc][1]\n",
    "    MC_Z = current_event[\"hit_position\"][loc][2]\n",
    "    \n",
    "    Origin_Z.append(MC_Z)\n",
    "    Origin_R.append(np.sqrt(MC_X**2 + MC_Y**2))\n"
   ]
  },
  {
   "cell_type": "code",
   "execution_count": null,
   "metadata": {},
   "outputs": [],
   "source": []
  },
  {
   "cell_type": "code",
   "execution_count": null,
   "metadata": {},
   "outputs": [],
   "source": []
  },
  {
   "cell_type": "code",
   "execution_count": null,
   "metadata": {},
   "outputs": [],
   "source": []
  },
  {
   "cell_type": "code",
   "execution_count": 45,
   "metadata": {},
   "outputs": [
    {
     "data": {
      "text/plain": [
       "<matplotlib.collections.PathCollection at 0x1170d31d0>"
      ]
     },
     "execution_count": 45,
     "metadata": {},
     "output_type": "execute_result"
    },
    {
     "data": {
      "image/png": "[encoded data removed]",
      "text/plain": [
       "<Figure size 432x288 with 1 Axes>"
      ]
     },
     "metadata": {
      "needs_background": "light"
     },
     "output_type": "display_data"
    }
   ],
   "source": [
    "plt.scatter(Origin_R,Origin_Z)"
   ]
  },
  {
   "cell_type": "code",
   "execution_count": null,
   "metadata": {},
   "outputs": [],
   "source": []
  },
  {
   "cell_type": "code",
   "execution_count": 13,
   "metadata": {},
   "outputs": [],
   "source": [
    "# for a specific event grab the hits\n",
    "EVENT=2106\n",
    "\n",
    "MC_Xhit = []\n",
    "MC_Yhit = []\n",
    "MC_Zhit = []\n",
    "MC_Thit = []\n",
    "\n",
    "for x in range(DatL[EVENT],DatL[EVENT+1]):\n",
    "\n",
    "    MC_Xhit.append(data.hits[x][\"hit_position\"][0])\n",
    "    MC_Yhit.append(data.hits[x][\"hit_position\"][1])\n",
    "    MC_Zhit.append(data.hits[x][\"hit_position\"][2])\n",
    "    MC_Thit.append(data.hits[x][\"hit_time\"])\n",
    "MC_Xhit = np.array(MC_Xhit)\n",
    "MC_Yhit = np.array(MC_Yhit)\n",
    "MC_Zhit = np.array(MC_Zhit)\n",
    "MC_Thit = np.array(MC_Ihit)\n",
    "loc = np.argmin(MC_Thit)\n"
   ]
  },
  {
   "cell_type": "code",
   "execution_count": 14,
   "metadata": {},
   "outputs": [
    {
     "data": {
      "text/plain": [
       "83.34784"
      ]
     },
     "execution_count": 14,
     "metadata": {},
     "output_type": "execute_result"
    }
   ],
   "source": [
    "MC_Xhit[loc]"
   ]
  },
  {
   "cell_type": "code",
   "execution_count": 12,
   "metadata": {},
   "outputs": [
    {
     "data": {
      "text/plain": [
       "0.35080284"
      ]
     },
     "execution_count": 12,
     "metadata": {},
     "output_type": "execute_result"
    }
   ],
   "source": [
    "MC_Ihit[163]"
   ]
  },
  {
   "cell_type": "code",
   "execution_count": null,
   "metadata": {},
   "outputs": [],
   "source": []
  },
  {
   "cell_type": "code",
   "execution_count": null,
   "metadata": {},
   "outputs": [],
   "source": []
  },
  {
   "cell_type": "code",
   "execution_count": 53,
   "metadata": {},
   "outputs": [],
   "source": [
    "a = np.array([1,3,5,6,7])"
   ]
  },
  {
   "cell_type": "code",
   "execution_count": 59,
   "metadata": {},
   "outputs": [
    {
     "data": {
      "text/plain": [
       "array([3])"
      ]
     },
     "execution_count": 59,
     "metadata": {},
     "output_type": "execute_result"
    }
   ],
   "source": [
    "a[(a<5) & (a>1)]"
   ]
  },
  {
   "cell_type": "code",
   "execution_count": null,
   "metadata": {},
   "outputs": [],
   "source": []
  },
  {
   "cell_type": "code",
   "execution_count": null,
   "metadata": {},
   "outputs": [],
   "source": [
    "import numpy as np\n",
    "import pandas as pd\n",
    "import tables as tb\n",
    "import os\n",
    "import time\n",
    "import glob\n",
    "\n",
    "def Diff(li1, li2):\n",
    "    return (list(set(li1) - set(li2)))\n",
    "\n",
    "class Data_Mine():\n",
    "    def setup_vol(self):\n",
    "        binsR = np.arange(0,1301,10)\n",
    "        binsZ = np.arange(-1301,1301,10)\n",
    "        bins = [binsR,binsZ]\n",
    "\n",
    "        self.Vbins_2d = bins\n",
    "        self.Vhist_2d_all = np.zeros(shape=(len(binsR)-1,len(binsZ)-1))\n",
    "        self.Vhist_2d_fid = np.zeros(shape=(len(binsR)-1,len(binsZ)-1))\n",
    "        self.Vhist_2d_trk = np.zeros(shape=(len(binsR)-1,len(binsZ)-1))\n",
    "        self.Vhist_2d_blo = np.zeros(shape=(len(binsR)-1,len(binsZ)-1))\n",
    "        self.Vhist_2d_roi = np.zeros(shape=(len(binsR)-1,len(binsZ)-1))\n",
    "\n",
    "\n",
    "TON_PATH_ANA  = \"/n/holystore01/LABS/guenette_lab/Lab/data/NEXT/TON_SCALE/NEXT_HD/ANA.fanal_1_01_00/\"\n",
    "TON_PATH_MC   = \"/n/holystore01/LABS/guenette_lab/Lab/data/NEXT/TON_SCALE/NEXT_HD/MC.nexus_p5_06_00/\"\n",
    "FWHM          = \"FWHM_07/\"\n",
    "Voxel         = \"Voxel_10x10x10/\"\n",
    "\n",
    "Regions = [\"ACTIVE\"]\n",
    "WORKTYPE = \"Bi214\"\n",
    "OUTFILE = \"Vol_Bi214_hist_7_10.npy\"\n",
    "Regions = [\"FIELD_CAGE\", \"READOUT_PLANE\", \"INNER_SHIELDING\", \"CATHODE\"]\n",
    "\n",
    "FULL = Data_Mine()\n",
    "FULL.setup_vol()\n",
    "ct = 0\n",
    "for region in Regions:\n",
    "    print(\"Starting on \"+region)\n",
    "\n",
    "    ANA_Dir = TON_PATH_ANA+WORKTYPE+\"/\"+region+\"/\"+FWHM+Voxel+\"Output/\"\n",
    "    MC_Dir  = TON_PATH_MC +WORKTYPE+\"/\"+region+\"/\"+\"Output/\"\n",
    "    \n",
    "    ANA_File = glob.glob(ANA_Dir+\"*.h5\")\n",
    "    ANA_File.sort()\n",
    "    ANA_File_Comp = [i.split(\"/\")[-1] for i in ANA_File]\n",
    "\n",
    "    MC_File = glob.glob(MC_Dir+\"*.h5\")\n",
    "    MC_File.sort()\n",
    "    MC_File_Comp = [i.split(\"/\")[-1] for i in MC_File]\n",
    "\n",
    "    SAME_FILES = Diff(ANA_File_Comp,MC_File_Comp)\n",
    "    SAME_FILES.sort()\n",
    "\n",
    "    for FILE in SAME_FILES:\n",
    "        ANA_Curr = ANA_Dir+FILE\n",
    "        MC_Curr  = MC_Dir+FILE\n",
    "        print(\"ANA file\")\n",
    "        print(ANA_Curr)\n",
    "        print(\"MC file\")\n",
    "        print(MC_Curr)\n",
    "        try:\n",
    "            with tb.open_file(ANA_Curr) as ANA, tb.open_file(MC_Curr) as MC:\n",
    "                try:\n",
    "                    ANA.get_node_attr('/FANALIC/ANA_fwhm_07_voxel_10x10x10', 'simulated_events')\n",
    "                    ct+=1\n",
    "                    events = dat.root.FANALIC.ANA_fwhm_07_voxel_10x10x10.events.table.read()\n",
    "                    data = MC.root.MC\n",
    "                    Nevents = len(data.events)\n",
    "                    DatL=[]\n",
    "                    DatL.append(0)\n",
    "                    for x in range(0,Nevents):\n",
    "                        DatL.append(data.extents[x][\"last_hit\"])\n",
    "                    \n",
    "                    Origin_Z = []\n",
    "                    Origin_R = []\n",
    "                    FID = []\n",
    "                    TRK = []\n",
    "                    BLO = []\n",
    "                    ROI = []\n",
    "                    for EVENT in range(0,Nevents):\n",
    "                        FID.append(int(events[q][14]))\n",
    "                        TRK.append(int(events[q][25]))\n",
    "                        BLO.append(int(events[q][28]))\n",
    "                        ROI.append(int(events[q][29]))\n",
    "                        \n",
    "                        current_event = data.hits[DatL[EVENT]:DatL[EVENT+1]]\n",
    "                        loc = np.argmin(current_event[\"hit_time\"])\n",
    "                        MC_X = current_event[\"hit_position\"][loc][0]\n",
    "                        MC_Y = current_event[\"hit_position\"][loc][1]\n",
    "                        MC_Z = current_event[\"hit_position\"][loc][2]\n",
    "                        if (region ==\"READOUT_PLANE\"):\n",
    "                            rn = np.random.uniform()\n",
    "                            if rn>=0.5:\n",
    "                                MC_Z *=-1\n",
    "                        Origin_Z.append(MC_Z)\n",
    "                        Origin_R.append(np.sqrt(MC_X**2 + MC_Y**2)) \n",
    "\n",
    "                    Origin_Z = np.array(Origin_Z)\n",
    "                    Origin_R = np.array(Origin_R)\n",
    "                    FID = np.array(FID)\n",
    "                    TRK = np.array(TRK)\n",
    "                    BLO = np.array(BLO)\n",
    "                    ROI = np.array(ROI)\n",
    "                    \n",
    "                    FULL.Vhist_2d_all += np.histogram2d(Origin_R, Origin_Z, bins=FULL.Vbins_2d)[0]\n",
    "                    FULL.Vhist_2d_fid += np.histogram2d(Origin_R[(FID==1)], Origin_Z[(FID==1)], bins=FULL.Vbins_2d)[0]\n",
    "                    FULL.Vhist_2d_trk += np.histogram2d(Origin_R[(TRK==1)], Origin_Z[(TRK==1)], bins=FULL.Vbins_2d)[0]\n",
    "                    FULL.Vhist_2d_blo += np.histogram2d(Origin_R[(BLO==1)], Origin_Z[(BLO==1)], bins=FULL.Vbins_2d)[0]\n",
    "                    FULL.Vhist_2d_roi += np.histogram2d(Origin_R[(ROI==1)], Origin_Z[(ROI==1)], bins=FULL.Vbins_2d)[0]\n",
    "                    \n",
    "                    if ct%100 ==0:\n",
    "                        np.save(OUTFILE,FULL)\n",
    "                        print(\"Saved!\")\n",
    "                except AttributeError:\n",
    "                    print(\"No simulated_events\")\n",
    "                    continue\n",
    "\n",
    "        except tb.exceptions.HDF5ExtError:\n",
    "            print(\"Cant Open this Fucker.\")\n",
    "            continue\n",
    "\n",
    "\n",
    "np.save(OUTFILE,FULL)\n",
    "\n"
   ]
  },
  {
   "cell_type": "code",
   "execution_count": null,
   "metadata": {},
   "outputs": [],
   "source": []
  },
  {
   "cell_type": "code",
   "execution_count": null,
   "metadata": {},
   "outputs": [],
   "source": [
    "import numpy as np\n",
    "import pandas as pd\n",
    "import tables as tb\n",
    "import os\n",
    "import time\n",
    "import glob\n",
    "\n",
    "class Data_Mine():\n",
    "    def setup_1d(self):\n",
    "        binsR = np.arange(0,1301,10)\n",
    "        binc = (binsR[:-1] + binsR[1:]) / 2\n",
    "        self.R_hist_bin   = binsR\n",
    "        self.R_hist_binc  = binc\n",
    "\n",
    "        self.R_hist_all   = np.zeros(len(binsR)-1, dtype='int32')\n",
    "\n",
    "    def setup_vol(self):\n",
    "        binsR = np.arange(0,1301,10)\n",
    "        binsZ = np.arange(-1301,1301,10)\n",
    "        bins = [binsR,binsZ]\n",
    "\n",
    "        self.Vbins_2d = bins\n",
    "        self.Vhist_2d_all = np.zeros(shape=(len(binsR)-1,len(binsZ)-1))\n",
    "        \n",
    "\n",
    "\n",
    "\n",
    "OUTFILE = \"Vol_bb0nu_hist_fullMC.npy\"\n",
    "\n",
    "FULL = Data_Mine()\n",
    "FULL.setup_vol()\n",
    "FULL.setup_1d()\n",
    "ct = 0\n",
    "\n",
    "MC_Dir = \"/n/holystore01/LABS/guenette_lab/Users/amcdonald/bb0nu_check/Outputs/\"\n",
    "\n",
    "\n",
    "MC_File = glob.glob(MC_Dir+\"*.h5\")\n",
    "MC_File.sort()\n",
    "\n",
    "\n",
    "for FILE in MC_File:\n",
    "    MC_Curr  = FILE#MC_Dir+FILE\n",
    "    print(\"MC file\")\n",
    "    print(MC_Curr)\n",
    "    with tb.open_file(MC_Curr) as MC:\n",
    "        ct+=1\n",
    "        data = MC.root.MC\n",
    "        Nevents = len(data.events)\n",
    "        DatL=[]\n",
    "        DatL.append(0)\n",
    "        for x in range(0,Nevents):\n",
    "            DatL.append(data.extents[x][\"last_hit\"])\n",
    "\n",
    "        Origin_Z = []\n",
    "        Origin_R = []\n",
    "\n",
    "        for EVENT in range(0,Nevents):\n",
    "\n",
    "            current_event = data.hits[DatL[EVENT]:DatL[EVENT+1]]\n",
    "            loc = np.argmin(current_event[\"hit_time\"])\n",
    "            MC_X = current_event[\"hit_position\"][loc][0]\n",
    "            MC_Y = current_event[\"hit_position\"][loc][1]\n",
    "            MC_Z = current_event[\"hit_position\"][loc][2]\n",
    "            if (region ==\"READOUT_PLANE\"):\n",
    "                rn = np.random.uniform()\n",
    "                if rn>=0.5:\n",
    "                    MC_Z *=-1\n",
    "            Origin_Z.append(MC_Z)\n",
    "            Origin_R.append(np.sqrt(MC_X**2 + MC_Y**2))\n",
    "\n",
    "        Origin_Z = np.array(Origin_Z)\n",
    "        Origin_R = np.array(Origin_R)\n",
    "\n",
    "        FULL.Vhist_2d_all += np.histogram2d(Origin_R, Origin_Z, bins=FULL.Vbins_2d)[0]\n",
    "        FULL.R_hist_all += np.histogram(Origin_R, FULL.R_hist_bin)[0]\n",
    "\n",
    "        if ct%100 ==0:\n",
    "            np.save(OUTFILE,FULL)\n",
    "            print(\"Saved!\")\n",
    "\n",
    "np.save(OUTFILE,FULL)\n",
    "\n"
   ]
  },
  {
   "cell_type": "code",
   "execution_count": null,
   "metadata": {},
   "outputs": [],
   "source": []
  },
  {
   "cell_type": "code",
   "execution_count": null,
   "metadata": {},
   "outputs": [],
   "source": []
  },
  {
   "cell_type": "code",
   "execution_count": null,
   "metadata": {},
   "outputs": [],
   "source": []
  },
  {
   "cell_type": "code",
   "execution_count": null,
   "metadata": {},
   "outputs": [],
   "source": []
  },
  {
   "cell_type": "code",
   "execution_count": null,
   "metadata": {},
   "outputs": [],
   "source": []
  },
  {
   "cell_type": "code",
   "execution_count": null,
   "metadata": {},
   "outputs": [],
   "source": []
  },
  {
   "cell_type": "code",
   "execution_count": null,
   "metadata": {},
   "outputs": [],
   "source": []
  },
  {
   "cell_type": "code",
   "execution_count": null,
   "metadata": {},
   "outputs": [],
   "source": []
  },
  {
   "cell_type": "code",
   "execution_count": null,
   "metadata": {},
   "outputs": [],
   "source": []
  },
  {
   "cell_type": "code",
   "execution_count": null,
   "metadata": {},
   "outputs": [],
   "source": []
  }
 ],
 "metadata": {
  "kernelspec": {
   "display_name": "Python 3",
   "language": "python",
   "name": "python3"
  },
  "language_info": {
   "codemirror_mode": {
    "name": "ipython",
    "version": 3
   },
   "file_extension": ".py",
   "mimetype": "text/x-python",
   "name": "python",
   "nbconvert_exporter": "python",
   "pygments_lexer": "ipython3",
   "version": "3.7.4"
  }
 },
 "nbformat": 4,
 "nbformat_minor": 2
}
